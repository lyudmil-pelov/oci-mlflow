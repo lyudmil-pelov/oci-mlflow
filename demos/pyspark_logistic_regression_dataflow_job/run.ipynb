{
 "cells": [
  {
   "cell_type": "code",
   "execution_count": null,
   "metadata": {},
   "outputs": [],
   "source": [
    "# Copyright (c) 2023 Oracle and/or its affiliates.\n",
    "# Licensed under the Universal Permissive License v 1.0 as shown at\n",
    "# https://oss.oracle.com/licenses/upl/\n",
    "\n",
    "import mlflow\n",
    "\n",
    "mlflow.set_tracking_uri(\"<http://ip:port>/\")\n",
    "\n",
    "mlflow.run(\".\",\n",
    "  experiment_name=\"spark/logistic_regression\",\n",
    "  backend=\"oci-datascience\",\n",
    "  backend_config=\"oci-datascience-config.json\"\n",
    ")"
   ]
  }
 ],
 "metadata": {
  "kernelspec": {
   "display_name": "Python 3",
   "language": "python",
   "name": "python3"
  },
  "language_info": {
   "codemirror_mode": {
    "name": "ipython",
    "version": 3
   },
   "file_extension": ".py",
   "mimetype": "text/x-python",
   "name": "python",
   "nbconvert_exporter": "python",
   "pygments_lexer": "ipython3",
   "version": "3.9.15 (main, Nov 24 2022, 08:29:02) \n[Clang 14.0.6 ]"
  },
  "vscode": {
   "interpreter": {
    "hash": "befd0945c435790bd7f22b73b168cdc559c23014061f63180a80847874ce09cd"
   }
  }
 },
 "nbformat": 4,
 "nbformat_minor": 4
}
